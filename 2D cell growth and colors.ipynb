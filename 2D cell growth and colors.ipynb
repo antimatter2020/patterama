{
 "cells": [
  {
   "cell_type": "code",
   "execution_count": 53,
   "metadata": {},
   "outputs": [
    {
     "name": "stdout",
     "output_type": "stream",
     "text": [
      "[array([[False, False, False],\n",
      "       [False,  True, False],\n",
      "       [False, False, False]])] [array([[False, False, False],\n",
      "       [False, False, False],\n",
      "       [False, False, False]])]\n"
     ]
    },
    {
     "ename": "ValueError",
     "evalue": "The truth value of an array with more than one element is ambiguous. Use a.any() or a.all()",
     "output_type": "error",
     "traceback": [
      "\u001b[1;31m---------------------------------------------------------------------------\u001b[0m",
      "\u001b[1;31mValueError\u001b[0m                                Traceback (most recent call last)",
      "Cell \u001b[1;32mIn [53], line 67\u001b[0m\n\u001b[0;32m     64\u001b[0m     cell_locations \u001b[39m=\u001b[39m new_locations\n\u001b[0;32m     65\u001b[0m     cell_colors \u001b[39m=\u001b[39m new_colors\n\u001b[1;32m---> 67\u001b[0m     cell_color \u001b[39m=\u001b[39m check_neighbors(cell_locations, cell_colors)\n\u001b[0;32m     69\u001b[0m \u001b[39m# Pause and show plot\u001b[39;00m\n\u001b[0;32m     70\u001b[0m plt\u001b[39m.\u001b[39mdraw()\n",
      "Cell \u001b[1;32mIn [53], line 33\u001b[0m, in \u001b[0;36mcheck_neighbors\u001b[1;34m(cell_locations, cell_colors)\u001b[0m\n\u001b[0;32m     31\u001b[0m red_neighbors\u001b[39m.\u001b[39mappend(colors_array[x\u001b[39m-\u001b[39m\u001b[39m1\u001b[39m:x\u001b[39m+\u001b[39m\u001b[39m2\u001b[39m, y\u001b[39m-\u001b[39m\u001b[39m1\u001b[39m:y\u001b[39m+\u001b[39m\u001b[39m2\u001b[39m] \u001b[39m==\u001b[39m \u001b[39m1\u001b[39m)\n\u001b[0;32m     32\u001b[0m \u001b[39mprint\u001b[39m(blue_neighbors, red_neighbors)\n\u001b[1;32m---> 33\u001b[0m \u001b[39mif\u001b[39;00m red_neighbors \u001b[39m>\u001b[39;49m blue_neighbors:\n\u001b[0;32m     34\u001b[0m     new_colors\u001b[39m.\u001b[39mappend(\u001b[39m0\u001b[39m)\n\u001b[0;32m     35\u001b[0m \u001b[39melse\u001b[39;00m:\n",
      "\u001b[1;31mValueError\u001b[0m: The truth value of an array with more than one element is ambiguous. Use a.any() or a.all()"
     ]
    },
    {
     "data": {
      "image/png": "[encoded data removed]",
      "text/plain": [
       "<Figure size 640x480 with 1 Axes>"
      ]
     },
     "metadata": {},
     "output_type": "display_data"
    }
   ],
   "source": [
    "import random\n",
    "import matplotlib.pyplot as plt\n",
    "import numpy as np\n",
    "\n",
    "# Set up parameters\n",
    "size = 100  # size of the grid\n",
    "num_iterations = 10  # number of iterations\n",
    "cell_locations = [(size//2, size//2)]  # start with one cell at the center\n",
    "cell_colors = [0] # initial color of the cell\n",
    "\n",
    "# Set up figure\n",
    "fig, ax = plt.subplots()\n",
    "ax.set_xlim([0, size])\n",
    "ax.set_ylim([0, size])\n",
    "ax.set_xticks([])\n",
    "ax.set_yticks([])\n",
    "\n",
    "def check_neighbors(cell_locations, cell_colors):\n",
    "    new_colors = []\n",
    "    colors_array = np.zeros((size, size))\n",
    "    for i in range(len(colors_array)):\n",
    "        for j in range(len(colors_array)):\n",
    "            colors_array[i][j] = 3\n",
    "    for number in range(len(cell_locations)):\n",
    "        x,y=cell_locations[number]\n",
    "        colors_array[x, y] = cell_colors[number]\n",
    "    for number in range(len(cell_locations)):\n",
    "        x,y=cell_locations[number]\n",
    "        red=colors_array[x-1:x+2, y-1:y+2].count(1)\n",
    "        blue=colors_array[x-1:x+2, y-1:y+2].count(0)\n",
    "        if red > blue:\n",
    "            new_colors.append(0)\n",
    "        else:\n",
    "            new_colors.append(1)\n",
    "    return new_colors\n",
    "\n",
    "# Main loop\n",
    "for i in range(num_iterations):\n",
    "    # Draw cells\n",
    "    ccolor=['red' if x==1 else 'blue' for x in cell_colors]\n",
    "    ax.scatter([x for x,y in cell_locations], [y for x,y in cell_locations], color=ccolor, s=1)\n",
    "\n",
    "    # Update cell locations\n",
    "    new_locations = []\n",
    "    new_colors=[]\n",
    "    for number in range(0,len(cell_locations)):\n",
    "        x,y = cell_locations[number]\n",
    "        if random.random() < 0.5:\n",
    "            new_locations.append((x, y))\n",
    "            new_colors.append(cell_colors[number])\n",
    "        else:\n",
    "            if random.random() < 0.5:\n",
    "                new_locations.append((x+1, y))\n",
    "                new_colors.append(cell_colors[number])\n",
    "                new_locations.append((x-1, y))\n",
    "                new_colors.append(cell_colors[number])\n",
    "            else:\n",
    "                new_locations.append((x, y+1))\n",
    "                new_colors.append(cell_colors[number])\n",
    "                new_locations.append((x, y-1))\n",
    "                new_colors.append(cell_colors[number])\n",
    "    cell_locations = new_locations\n",
    "    cell_colors = new_colors\n",
    "\n",
    "    cell_color = check_neighbors(cell_locations, cell_colors)\n",
    "\n",
    "# Pause and show plot\n",
    "plt.draw()\n",
    "plt.pause(0.01)\n",
    "ax.clear()\n",
    "\n",
    "plt.show()\n",
    "\n",
    "print(cell_colors)\n",
    "print(cell_locations)\n"
   ]
  },
  {
   "cell_type": "code",
   "execution_count": 40,
   "metadata": {},
   "outputs": [
    {
     "name": "stdout",
     "output_type": "stream",
     "text": [
      "[0, 0, 0, 0, 0, 0]\n",
      "[(51, 51), (51, 49), (50, 51), (50, 49), (49, 50), (47, 50)]\n"
     ]
    }
   ],
   "source": [
    "print(cell_colors)\n",
    "print(cell_locations)"
   ]
  }
 ],
 "metadata": {
  "kernelspec": {
   "display_name": "Python 3",
   "language": "python",
   "name": "python3"
  },
  "language_info": {
   "codemirror_mode": {
    "name": "ipython",
    "version": 3
   },
   "file_extension": ".py",
   "mimetype": "text/x-python",
   "name": "python",
   "nbconvert_exporter": "python",
   "pygments_lexer": "ipython3",
   "version": "3.10.6"
  },
  "orig_nbformat": 4,
  "vscode": {
   "interpreter": {
    "hash": "e3fe8f634c114becadabd700f27fd748c78413aa2219eac0e788a3cafa879986"
   }
  }
 },
 "nbformat": 4,
 "nbformat_minor": 2
}
