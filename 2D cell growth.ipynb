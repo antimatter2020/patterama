{
 "cells": [
  {
   "cell_type": "code",
   "execution_count": 32,
   "metadata": {},
   "outputs": [
    {
     "data": {
      "image/png": "[encoded data removed]",
      "text/plain": [
       "<Figure size 640x480 with 1 Axes>"
      ]
     },
     "metadata": {},
     "output_type": "display_data"
    }
   ],
   "source": [
    "import random\n",
    "import matplotlib.pyplot as plt\n",
    "\n",
    "# Set up parameters\n",
    "size = 100  # size of the grid\n",
    "num_iterations = 10  # number of iterations\n",
    "cell_locations = [(size//2, size//2)]  # start with one cell at the center\n",
    "cell_colors = [1] # initial color of the cell\n",
    "\n",
    "# Set up figure\n",
    "fig, ax = plt.subplots()\n",
    "ax.set_xlim([0, size])\n",
    "ax.set_ylim([0, size])\n",
    "ax.set_xticks([])\n",
    "ax.set_yticks([])\n",
    "\n",
    "# Main loop\n",
    "for i in range(num_iterations):\n",
    "    # Draw cells\n",
    "    ax.scatter([x for x,y in cell_locations], [y for x,y in cell_locations], color='black', s=1)\n",
    "\n",
    "    # Update cell locations\n",
    "    new_locations = []\n",
    "    for x, y in cell_locations:\n",
    "        if random.random() < 0.5:\n",
    "            new_locations.append((x, y))\n",
    "        else:\n",
    "            if random.random() < 0.5:\n",
    "                new_locations.append((x+1, y))\n",
    "                new_locations.append((x-1, y))\n",
    "            else:\n",
    "                new_locations.append((x, y+1))\n",
    "                new_locations.append((x, y-1))\n",
    "    cell_locations = new_locations\n",
    "\n",
    "# Pause and show plot\n",
    "plt.draw()\n",
    "plt.pause(0.01)\n",
    "ax.clear()\n",
    "\n",
    "plt.show()"
   ]
  },
  {
   "cell_type": "code",
   "execution_count": 28,
   "metadata": {},
   "outputs": [
    {
     "name": "stdout",
     "output_type": "stream",
     "text": [
      "[(50, 52), (50, 50), (51, 50), (51, 48), (49, 50), (50, 48), (48, 48)]\n",
      "7\n"
     ]
    }
   ],
   "source": [
    "print(cell_locations)\n",
    "print(len(cell_locations))"
   ]
  },
  {
   "cell_type": "code",
   "execution_count": null,
   "metadata": {},
   "outputs": [],
   "source": []
  }
 ],
 "metadata": {
  "kernelspec": {
   "display_name": "Python 3",
   "language": "python",
   "name": "python3"
  },
  "language_info": {
   "codemirror_mode": {
    "name": "ipython",
    "version": 3
   },
   "file_extension": ".py",
   "mimetype": "text/x-python",
   "name": "python",
   "nbconvert_exporter": "python",
   "pygments_lexer": "ipython3",
   "version": "3.10.6"
  },
  "orig_nbformat": 4,
  "vscode": {
   "interpreter": {
    "hash": "e3fe8f634c114becadabd700f27fd748c78413aa2219eac0e788a3cafa879986"
   }
  }
 },
 "nbformat": 4,
 "nbformat_minor": 2
}
